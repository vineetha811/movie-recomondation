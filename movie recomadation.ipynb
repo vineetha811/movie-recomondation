{
 "cells": [
  {
   "cell_type": "code",
   "execution_count": 1,
   "metadata": {},
   "outputs": [
    {
     "ename": "SyntaxError",
     "evalue": "(unicode error) 'unicodeescape' codec can't decode bytes in position 2-3: truncated \\UXXXXXXXX escape (1949267853.py, line 8)",
     "output_type": "error",
     "traceback": [
      "\u001b[0;36m  Cell \u001b[0;32mIn[1], line 8\u001b[0;36m\u001b[0m\n\u001b[0;31m    movies_data = pd.read_csv('C:\\Users\\vinee\\OneDrive\\Desktop\\ml')\u001b[0m\n\u001b[0m                                                                  ^\u001b[0m\n\u001b[0;31mSyntaxError\u001b[0m\u001b[0;31m:\u001b[0m (unicode error) 'unicodeescape' codec can't decode bytes in position 2-3: truncated \\UXXXXXXXX escape\n"
     ]
    }
   ],
   "source": [
    "import numpy as np\n",
    "import pandas as pd\n",
    "import difflib\n",
    "from sklearn.feature_extraction.text import TfidfVectorizer\n",
    "from sklearn.metrics.pairwise import cosine_similarity\n",
    "\n",
    "# Load the data from the CSV file to a pandas dataframe\n",
    "movies_data = pd.read_csv('C:\\Users\\vinee\\OneDrive\\Desktop\\ml')\n",
    "\n",
    "# Print the first 5 rows of the dataframe\n",
    "print(movies_data.head())\n",
    "\n",
    "# Number of rows and columns in the data frame\n",
    "print(movies_data.shape)\n",
    "\n",
    "# Selecting the relevant features for recommendation\n",
    "selected_features = ['genres', 'keywords', 'tagline', 'cast', 'director']\n",
    "print(selected_features)\n",
    "\n",
    "# Replacing the null values with an empty string\n",
    "for feature in selected_features:\n",
    "    movies_data[feature] = movies_data[feature].fillna('')\n",
    "\n",
    "# Combining all the selected features into one string\n",
    "combined_features = movies_data['genres'] + ' ' + movies_data['keywords'] + ' ' + movies_data['tagline'] + ' ' + movies_data['cast'] + ' ' + movies_data['director']\n",
    "print(combined_features.head())\n",
    "\n",
    "# Converting the text data to feature vectors\n",
    "vectorizer = TfidfVectorizer()\n",
    "feature_vectors = vectorizer.fit_transform(combined_features)\n",
    "\n",
    "# Getting the similarity scores using cosine similarity\n",
    "similarity = cosine_similarity(feature_vectors)\n",
    "\n",
    "# Getting the movie name from the user\n",
    "movie_name = input('Enter your favourite movie name: ')\n",
    "\n",
    "# Creating a list with all the movie names given in the dataset\n",
    "list_of_all_titles = movies_data['title'].tolist()\n",
    "\n",
    "# Finding the close match for the movie name given by the user\n",
    "find_close_match = difflib.get_close_matches(movie_name, list_of_all_titles)\n",
    "\n",
    "if find_close_match:\n",
    "    close_match = find_close_match[0]\n",
    "    print(f'Close match found: {close_match}')\n",
    "\n",
    "    # Finding the index of the movie with the title\n",
    "    index_of_the_movie = movies_data[movies_data.title == close_match].index[0]\n",
    "\n",
    "    # Getting a list of similar movies\n",
    "    similarity_score = list(enumerate(similarity[index_of_the_movie]))\n",
    "\n",
    "    # Sorting the movies based on their similarity score\n",
    "    sorted_similar_movies = sorted(similarity_score, key=lambda x: x[1], reverse=True)\n",
    "\n",
    "    # Printing the names of similar movies based on the index\n",
    "    print('Movies suggested for you:\\n')\n",
    "    i = 1\n",
    "    for movie in sorted_similar_movies:\n",
    "        index = movie[0]\n",
    "        title_from_index = movies_data.iloc[index]['title']\n",
    "        if i < 30:\n",
    "            print(f'{i}. {title_from_index}')\n",
    "            i += 1\n",
    "else:\n",
    "    print('No close match found. Please try with a different movie name.')"
   ]
  }
 ],
 "metadata": {
  "kernelspec": {
   "display_name": "Python 3",
   "language": "python",
   "name": "python3"
  },
  "language_info": {
   "codemirror_mode": {
    "name": "ipython",
    "version": 3
   },
   "file_extension": ".py",
   "mimetype": "text/x-python",
   "name": "python",
   "nbconvert_exporter": "python",
   "pygments_lexer": "ipython3",
   "version": "3.9.6"
  },
  "orig_nbformat": 4
 },
 "nbformat": 4,
 "nbformat_minor": 2
}
